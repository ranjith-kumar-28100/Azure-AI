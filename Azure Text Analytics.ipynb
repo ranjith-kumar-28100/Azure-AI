{
 "cells": [
  {
   "cell_type": "code",
   "execution_count": 1,
   "id": "641e7491",
   "metadata": {},
   "outputs": [],
   "source": [
    "from dotenv import load_dotenv\n",
    "import os\n",
    "from azure.core.credentials import AzureKeyCredential\n",
    "from azure.ai.textanalytics import TextAnalyticsClient\n",
    "import pandas as pd\n",
    "import numpy as np"
   ]
  },
  {
   "cell_type": "code",
   "execution_count": 2,
   "id": "1765f7aa",
   "metadata": {},
   "outputs": [
    {
     "data": {
      "text/plain": [
       "('https://eastus.api.cognitive.microsoft.com/',\n",
       " '8dfeb4ae18f843f9a14bf0f27d1e7daa')"
      ]
     },
     "execution_count": 2,
     "metadata": {},
     "output_type": "execute_result"
    }
   ],
   "source": [
    "load_dotenv()\n",
    "endpoint = os.getenv(\"AZURE_WORKSPACE_ENDPOINT\")\n",
    "key = os.getenv(\"AZURE_WORKSPACE_KEY\")\n",
    "endpoint,key"
   ]
  },
  {
   "cell_type": "code",
   "execution_count": 3,
   "id": "f959e242",
   "metadata": {},
   "outputs": [],
   "source": [
    "text_analytics_client = TextAnalyticsClient(endpoint=endpoint,credential=AzureKeyCredential(key=key))"
   ]
  },
  {
   "cell_type": "code",
   "execution_count": 4,
   "id": "adf91f5d",
   "metadata": {},
   "outputs": [],
   "source": [
    "data = pd.read_csv('Data/Musical_instruments_reviews.csv')"
   ]
  },
  {
   "cell_type": "code",
   "execution_count": 5,
   "id": "c4e8e1d8",
   "metadata": {},
   "outputs": [
    {
     "name": "stdout",
     "output_type": "stream",
     "text": [
      "[\"Not much to write about here, but it does exactly what it's supposed to. filters out the pop sounds. now my recordings are much more crisp. it is one of the lowest prices pop filters on amazon so might as well buy it, they honestly work the same despite their pricing,\", \"The product does exactly as it should and is quite affordable.I did not realized it was double screened until it arrived, so it was even better than I had expected.As an added bonus, one of the screens carries a small hint of the smell of an old grape candy I used to buy, so for reminiscent's sake, I cannot stop putting the pop filter next to my nose and smelling it after recording. :DIf you needed a pop filter, this will work just as well as the expensive ones, and it may even come with a pleasing aroma like mine did!Buy this product! :]\", 'The primary job of this device is to block the breath that would otherwise produce a popping sound, while allowing your voice to pass through with no noticeable reduction of volume or high frequencies. The double cloth filter blocks the pops and lets the voice through with no coloration. The metal clamp mount attaches to the mike stand secure enough to keep it attached. The goose neck needs a little coaxing to stay where you put it.', 'Nice windscreen protects my MXL mic and prevents pops. Only thing is that the gooseneck is only marginally able to hold the screen in position and requires careful positioning of the clamp to avoid sagging.', \"This pop filter is great. It looks and performs like a studio filter. If you're recording vocals this will eliminate the pops that gets recorded when you sing.\", 'So good that I bought another one.  Love the heavy cord and gold connectors.  Bass sounds great.  I just learned last night how to coil them up.  I guess I should read instructions more carefully.  But no harm done, still works great!', \"I have used monster cables for years, and with good reason. The lifetime warranty is worth the price alone. Simple fact: cables break, but getting to replace them at no cost is where it's at.\", \"I now use this cable to run from the output of my pedal chain to the input of my Fender Amp. After I bought Monster Cable to hook up my pedal board I thought I would try another one and update my guitar. I had been using a high end Planet Waves cable that I bought in the 1980's... Once I found out the input jacks on the new Monster cable didn't fit into the Fender Strat jack I was a little disappointed... I didn't return it and as stated I use it for the output on the pedal board. Save your money... I went back to my Planet Waves Cable...I payed $30.00 back in the eighties for the Planet Waves which now comes in at around $50.00. What I'm getting at is you get what you pay for. I thought Waves was a lot of money back in the day...but I haven't bought a guitar cable since this one...20 plus years and still working...Planet Waves wins.\", 'Perfect for my Epiphone Sheraton II.  Monster cables are well constructed.  I have several and never had any problems with any of them over the years.  Got this one because I wanted the 90 degree plug.', 'Monster makes the best cables and a lifetime warranty doesnt hurt either. This isnt their top of the line series but it works great with my bass guitar rig and has for some time. You cant go wrong with Monster Cables.']\n"
     ]
    }
   ],
   "source": [
    "reviews= [i[0] for i in data.head(10).values]\n",
    "print(reviews)"
   ]
  },
  {
   "cell_type": "markdown",
   "id": "0cd0cae1",
   "metadata": {},
   "source": [
    "# Sentiment Analysis"
   ]
  },
  {
   "cell_type": "code",
   "execution_count": 6,
   "id": "51b3716c",
   "metadata": {},
   "outputs": [],
   "source": [
    "sentiment_analysis = text_analytics_client.analyze_sentiment(documents=reviews,language=\"en\")"
   ]
  },
  {
   "cell_type": "code",
   "execution_count": 7,
   "id": "ffa2cda5",
   "metadata": {},
   "outputs": [
    {
     "name": "stdout",
     "output_type": "stream",
     "text": [
      "neutral {'positive': 0.22, 'neutral': 0.76, 'negative': 0.02}\n",
      "positive {'positive': 0.85, 'neutral': 0.1, 'negative': 0.05}\n",
      "positive {'positive': 0.96, 'neutral': 0.04, 'negative': 0.0}\n",
      "positive {'positive': 1.0, 'neutral': 0.0, 'negative': 0.0}\n",
      "positive {'positive': 0.99, 'neutral': 0.0, 'negative': 0.0}\n",
      "positive {'positive': 0.99, 'neutral': 0.0, 'negative': 0.0}\n",
      "positive {'positive': 0.79, 'neutral': 0.09, 'negative': 0.12}\n",
      "mixed {'positive': 0.49, 'neutral': 0.01, 'negative': 0.5}\n",
      "positive {'positive': 0.89, 'neutral': 0.01, 'negative': 0.1}\n",
      "mixed {'positive': 0.54, 'neutral': 0.04, 'negative': 0.42}\n"
     ]
    }
   ],
   "source": [
    "for sentiment in sentiment_analysis:\n",
    "    print(sentiment.sentiment,sentiment.confidence_scores)"
   ]
  },
  {
   "cell_type": "markdown",
   "id": "ab56da6d",
   "metadata": {},
   "source": [
    "# Text Summarization"
   ]
  },
  {
   "cell_type": "code",
   "execution_count": 8,
   "id": "37c2563c",
   "metadata": {},
   "outputs": [],
   "source": [
    "poller = text_analytics_client.begin_extract_summary(documents=reviews)\n",
    "extract_summary_result = poller.result()"
   ]
  },
  {
   "cell_type": "code",
   "execution_count": 9,
   "id": "ac6a1f82",
   "metadata": {},
   "outputs": [
    {
     "name": "stdout",
     "output_type": "stream",
     "text": [
      "[\"Not much to write about here, but it does exactly what it's supposed to.filters out the pop sounds.it is one of the lowest prices pop filters on amazon so might as well buy it, they honestly work the same despite their pricing,\", \"I did not realized it was double screened until it arrived, so it was even better than I had expected.As an added bonus, one of the screens carries a small hint of the smell of an old grape candy I used to buy, so for reminiscent's sake, I cannot stop putting the pop filter next to my nose and smelling it after recording.:DIf you needed a pop filter, this will work just as well as the expensive ones, and it may even come with a pleasing aroma like mine did!Buy this product!\", 'The double cloth filter blocks the pops and lets the voice through with no coloration.The metal clamp mount attaches to the mike stand secure enough to keep it attached.The goose neck needs a little coaxing to stay where you put it.', 'Nice windscreen protects my MXL mic and prevents pops.Only thing is that the gooseneck is only marginally able to hold the screen in position and requires careful positioning of the clamp to avoid sagging.', \"This pop filter is great.It looks and performs like a studio filter.If you're recording vocals this will eliminate the pops that gets recorded when you sing.\", 'So good that I bought another one.Love the heavy cord and gold connectors.I just learned last night how to coil them up.', \"I have used monster cables for years, and with good reason.The lifetime warranty is worth the price alone.Simple fact: cables break, but getting to replace them at no cost is where it's at.\", \"I now use this cable to run from the output of my pedal chain to the input of my Fender Amp.I had been using a high end Planet Waves cable that I bought in the 1980's...I went back to my Planet Waves Cable...\", 'Perfect for my Epiphone Sheraton II.I have several and never had any problems with any of them over the years.Got this one because I wanted the 90 degree plug.', 'Monster makes the best cables and a lifetime warranty doesnt hurt either.This isnt their top of the line series but it works great with my bass guitar rig and has for some time.You cant go wrong with Monster Cables.']\n"
     ]
    }
   ],
   "source": [
    "summaries = []\n",
    "for result in extract_summary_result:          \n",
    "    if result.kind == \"ExtractiveSummarization\":\n",
    "        summaries.append(\"\".join([sentence.text for sentence in result.sentences]))\n",
    "    elif result.is_error is True:\n",
    "        print(f'Error with {result.error.code}')            \n",
    "print(summaries)"
   ]
  },
  {
   "cell_type": "code",
   "execution_count": 10,
   "id": "afdc4fd6",
   "metadata": {},
   "outputs": [
    {
     "data": {
      "text/plain": [
       "10"
      ]
     },
     "execution_count": 10,
     "metadata": {},
     "output_type": "execute_result"
    }
   ],
   "source": [
    "len(summaries)"
   ]
  },
  {
   "cell_type": "markdown",
   "id": "2d184eb4",
   "metadata": {},
   "source": [
    "# Entity Recognition"
   ]
  },
  {
   "cell_type": "code",
   "execution_count": 11,
   "id": "095aef42",
   "metadata": {},
   "outputs": [],
   "source": [
    "batch_1_entity_recognition_result = text_analytics_client.recognize_entities(documents=reviews[0:5],language=\"en\")\n",
    "batch_2_entity_recognition_result = text_analytics_client.recognize_entities(documents=reviews[5:],language=\"en\")"
   ]
  },
  {
   "cell_type": "code",
   "execution_count": 12,
   "id": "92448805",
   "metadata": {},
   "outputs": [
    {
     "name": "stdout",
     "output_type": "stream",
     "text": [
      "Entity: write, Category: Skill, Confidence Score: 0.59\n",
      "Entity: now, Category: DateTime, Confidence Score: 0.8\n",
      "Entity: one, Category: Quantity, Confidence Score: 0.8\n",
      "Entity: amazon, Category: Organization, Confidence Score: 0.98\n",
      "Entity: expected.As, Category: Organization, Confidence Score: 0.9\n",
      "Entity: one, Category: Quantity, Confidence Score: 0.8\n",
      "Entity: grape candy, Category: Product, Confidence Score: 0.94\n",
      "Entity: cent, Category: Quantity, Confidence Score: 0.8\n",
      "Entity: pop filter, Category: Product, Confidence Score: 0.9\n",
      "Entity: pop filter, Category: Product, Confidence Score: 0.97\n",
      "Entity: may, Category: DateTime, Confidence Score: 0.8\n",
      "Entity: double cloth filter, Category: Product, Confidence Score: 0.87\n",
      "Entity: metal clamp mount, Category: Product, Confidence Score: 0.95\n",
      "Entity: mike stand, Category: Product, Confidence Score: 0.96\n",
      "Entity: windscreen, Category: Product, Confidence Score: 0.94\n",
      "Entity: MXL mic, Category: Product, Confidence Score: 0.95\n",
      "Entity: MXL, Category: Product, Confidence Score: 0.7\n",
      "Entity: screen, Category: Product, Confidence Score: 0.57\n",
      "Entity: clamp, Category: Product, Confidence Score: 0.8\n",
      "Entity: pop filter, Category: Product, Confidence Score: 0.97\n",
      "Entity: studio filter, Category: Product, Confidence Score: 0.49\n",
      "Entity: recording, Category: Skill, Confidence Score: 0.59\n",
      "Entity: pops, Category: Skill, Confidence Score: 0.61\n",
      "Entity: one, Category: Quantity, Confidence Score: 0.8\n",
      "Entity: cord, Category: Product, Confidence Score: 0.85\n",
      "Entity: gold connectors, Category: Product, Confidence Score: 0.94\n",
      "Entity: Bass, Category: Product, Confidence Score: 0.99\n",
      "Entity: last night, Category: DateTime, Confidence Score: 0.8\n",
      "Entity: monster cables, Category: Product, Confidence Score: 0.85\n",
      "Entity: cables, Category: Product, Confidence Score: 0.97\n",
      "Entity: now, Category: DateTime, Confidence Score: 0.8\n",
      "Entity: cable, Category: Product, Confidence Score: 0.93\n",
      "Entity: pedal chain, Category: Product, Confidence Score: 0.94\n",
      "Entity: Fender Amp, Category: Product, Confidence Score: 0.82\n",
      "Entity: Monster Cable, Category: Product, Confidence Score: 0.64\n",
      "Entity: pedal board, Category: Product, Confidence Score: 0.96\n",
      "Entity: one, Category: Quantity, Confidence Score: 0.8\n",
      "Entity: guitar, Category: Product, Confidence Score: 0.99\n",
      "Entity: Planet Waves, Category: Organization, Confidence Score: 0.63\n",
      "Entity: cable, Category: Product, Confidence Score: 0.42\n",
      "Entity: the 1980's, Category: DateTime, Confidence Score: 0.8\n",
      "Entity: jacks, Category: Product, Confidence Score: 0.82\n",
      "Entity: Monster cable, Category: Product, Confidence Score: 0.84\n",
      "Entity: Monster, Category: Product, Confidence Score: 0.75\n",
      "Entity: Fender Strat jack, Category: Product, Confidence Score: 0.63\n",
      "Entity: Fender Strat, Category: Product, Confidence Score: 0.79\n",
      "Entity: pedal board, Category: Product, Confidence Score: 0.91\n",
      "Entity: Planet Waves Cable, Category: Organization, Confidence Score: 0.65\n",
      "Entity: $30.00, Category: Quantity, Confidence Score: 0.8\n",
      "Entity: the eighties, Category: DateTime, Confidence Score: 0.8\n",
      "Entity: now, Category: DateTime, Confidence Score: 0.8\n",
      "Entity: $50.00, Category: Quantity, Confidence Score: 0.8\n",
      "Entity: Waves, Category: Organization, Confidence Score: 0.61\n",
      "Entity: the day, Category: DateTime, Confidence Score: 0.8\n",
      "Entity: guitar cable, Category: Product, Confidence Score: 0.97\n",
      "Entity: 20, Category: Quantity, Confidence Score: 0.8\n",
      "Entity: Planet Waves, Category: Organization, Confidence Score: 0.97\n",
      "Entity: Epiphone Sheraton II, Category: Product, Confidence Score: 0.92\n",
      "Entity: Monster cables, Category: Product, Confidence Score: 0.82\n",
      "Entity: Monster, Category: Product, Confidence Score: 0.67\n",
      "Entity: 90 degree, Category: Quantity, Confidence Score: 0.8\n",
      "Entity: plug, Category: Product, Confidence Score: 0.4\n",
      "Entity: Monster, Category: Organization, Confidence Score: 0.8\n",
      "Entity: cables, Category: Product, Confidence Score: 0.94\n",
      "Entity: bass guitar, Category: Product, Confidence Score: 0.97\n",
      "Entity: Monster Cables, Category: Product, Confidence Score: 0.96\n"
     ]
    }
   ],
   "source": [
    "for result in batch_1_entity_recognition_result:\n",
    "    for entity in result.entities:        \n",
    "        print(f\"Entity: {entity.text}, Category: {entity.category}, Confidence Score: {entity.confidence_score}\")\n",
    "\n",
    "for result in batch_2_entity_recognition_result:\n",
    "    for entity in result.entities:        \n",
    "        print(f\"Entity: {entity.text}, Category: {entity.category}, Confidence Score: {entity.confidence_score}\")"
   ]
  },
  {
   "cell_type": "markdown",
   "id": "56511104",
   "metadata": {},
   "source": [
    "# Key Phrase Extraction"
   ]
  },
  {
   "cell_type": "code",
   "execution_count": 13,
   "id": "eb411ccf",
   "metadata": {},
   "outputs": [],
   "source": [
    "key_phrases = text_analytics_client.extract_key_phrases(documents=reviews,language=\"en\")"
   ]
  },
  {
   "cell_type": "code",
   "execution_count": 14,
   "id": "38d93c0e",
   "metadata": {},
   "outputs": [
    {
     "name": "stdout",
     "output_type": "stream",
     "text": [
      "Key Phrases:  ['lowest prices pop filters', 'pop sounds', 'recordings', 'pricing']\n",
      "Key Phrases:  ['old grape candy', 'small hint', 'pop filter', 'pleasing aroma', 'product', 'bonus', 'screens', 'smell', 'sake', 'nose']\n",
      "Key Phrases:  ['double cloth filter', 'primary job', 'popping sound', 'noticeable reduction', 'high frequencies', 'metal clamp', 'mike stand', 'goose neck', 'device', 'breath', 'voice', 'volume', 'pops', 'coloration', 'little']\n",
      "Key Phrases:  ['Nice windscreen', 'MXL mic', 'careful positioning', 'pops', 'thing', 'gooseneck', 'clamp']\n",
      "Key Phrases:  ['pop filter', 'studio filter', 'vocals', 'pops']\n",
      "Key Phrases:  ['heavy cord', 'gold connectors', 'Bass', 'instructions', 'harm']\n",
      "Key Phrases:  ['good reason', 'lifetime warranty', 'Simple fact', 'monster cables', 'years', 'price', 'cost']\n",
      "Key Phrases:  ['high end Planet Waves cable', 'Fender Strat jack', 'new Monster cable', 'Fender Amp', 'guitar cable', 'pedal chain', 'pedal board', 'input jacks', 'output', 'money', 'eighties', 'lot', 'day']\n",
      "Key Phrases:  ['Epiphone Sheraton II', 'Monster cables', '90 degree plug', 'problems', 'years']\n",
      "Key Phrases:  ['bass guitar rig', 'best cables', 'lifetime warranty', 'line series', 'Monster Cables', 'top']\n"
     ]
    }
   ],
   "source": [
    "for result in key_phrases:\n",
    "    for display_result in result.items():\n",
    "        if display_result[0]=='key_phrases':\n",
    "            print(\"Key Phrases: \",display_result[1])"
   ]
  },
  {
   "cell_type": "markdown",
   "id": "e1927bc4",
   "metadata": {},
   "source": [
    "# Linked Entity Recognition"
   ]
  },
  {
   "cell_type": "code",
   "execution_count": 15,
   "id": "2c6ad739",
   "metadata": {},
   "outputs": [],
   "source": [
    "linked_entities_batch_1 = text_analytics_client.recognize_linked_entities(documents=reviews[0:5],language=\"en\")\n",
    "linked_entities_batch_2 = text_analytics_client.recognize_linked_entities(documents=reviews[5:],language=\"en\")"
   ]
  },
  {
   "cell_type": "code",
   "execution_count": 16,
   "id": "d96bdcd7",
   "metadata": {},
   "outputs": [
    {
     "name": "stdout",
     "output_type": "stream",
     "text": [
      "Entity: Data Interchange Format URL: https://en.wikipedia.org/wiki/Data_Interchange_Format\n",
      "Entity: Stone Temple Pilots URL: https://en.wikipedia.org/wiki/Stone_Temple_Pilots\n",
      "Entity: Goose URL: https://en.wikipedia.org/wiki/Goose\n",
      "Entity: MusicXML URL: https://en.wikipedia.org/wiki/MusicXML\n",
      "Entity: Love (Beatles album) URL: https://en.wikipedia.org/wiki/Love_(Beatles_album)\n",
      "Entity: Gold URL: https://en.wikipedia.org/wiki/Gold\n",
      "Entity: Bass guitar URL: https://en.wikipedia.org/wiki/Bass_guitar\n",
      "Entity: Fender amplifier URL: https://en.wikipedia.org/wiki/Fender_amplifier\n",
      "Entity: Monster Cable URL: https://en.wikipedia.org/wiki/Monster_Cable\n",
      "Entity: Planet Waves URL: https://en.wikipedia.org/wiki/Planet_Waves\n",
      "Entity: Once (film) URL: https://en.wikipedia.org/wiki/Once_(film)\n",
      "Entity: Fender Stratocaster URL: https://en.wikipedia.org/wiki/Fender_Stratocaster\n",
      "Entity: Wind wave URL: https://en.wikipedia.org/wiki/Wind_wave\n",
      "Entity: Epiphone Sheraton URL: https://en.wikipedia.org/wiki/Epiphone_Sheraton\n",
      "Entity: World War II URL: https://en.wikipedia.org/wiki/World_War_II\n",
      "Entity: Monster Cable URL: https://en.wikipedia.org/wiki/Monster_Cable\n",
      "Entity: Monster Cable URL: https://en.wikipedia.org/wiki/Monster_Cable\n"
     ]
    }
   ],
   "source": [
    "for result in linked_entities_batch_1:\n",
    "    if result.get('entities') != []:\n",
    "        for display_result in result.get('entities'):\n",
    "            print(f\"Entity: {display_result.name} URL: {display_result.url}\")\n",
    "for result in linked_entities_batch_2:\n",
    "    if result.get('entities') != []:\n",
    "        for display_result in result.get('entities'):\n",
    "            print(f\"Entity: {display_result.name} URL: {display_result.url}\")            "
   ]
  },
  {
   "cell_type": "code",
   "execution_count": 17,
   "id": "e7aafe9f",
   "metadata": {},
   "outputs": [],
   "source": [
    "pii_entities_batch_1 =text_analytics_client.recognize_pii_entities(documents=reviews[0:5],language=\"en\")\n",
    "pii_entities_batch_2 =text_analytics_client.recognize_pii_entities(documents=reviews[5:],language=\"en\")"
   ]
  },
  {
   "cell_type": "code",
   "execution_count": 18,
   "id": "f2a3eee4",
   "metadata": {
    "scrolled": true
   },
   "outputs": [
    {
     "name": "stdout",
     "output_type": "stream",
     "text": [
      "Entity: now Category: DateTime Confidence: 0.8\n",
      "Entity: expected.As Category: Organization Confidence: 0.9\n",
      "Entity: may Category: DateTime Confidence: 0.8\n",
      "Entity: last night Category: DateTime Confidence: 0.8\n",
      "Entity: now Category: DateTime Confidence: 0.8\n",
      "Entity: the 1980's Category: DateTime Confidence: 0.8\n",
      "Entity: the eighties Category: DateTime Confidence: 0.8\n",
      "Entity: now Category: DateTime Confidence: 0.8\n",
      "Entity: the day Category: DateTime Confidence: 0.8\n",
      "Entity: Planet Waves Category: Organization Confidence: 0.85\n",
      "Entity: Monster Category: Organization Confidence: 0.63\n",
      "Entity: Monster Cables Category: Organization Confidence: 0.35\n"
     ]
    }
   ],
   "source": [
    "for result in pii_entities_batch_1:\n",
    "    if result.entities !=[]:\n",
    "        for display_result in result.entities:\n",
    "            print(f\"Entity: {display_result.text} Category: {display_result.category} Confidence: {display_result.confidence_score}\")\n",
    "for result in pii_entities_batch_2:\n",
    "    if result.entities !=[]:\n",
    "        for display_result in result.entities:\n",
    "            print(f\"Entity: {display_result.text} Category: {display_result.category} Confidence: {display_result.confidence_score}\")            "
   ]
  }
 ],
 "metadata": {
  "kernelspec": {
   "display_name": "Python 3 (ipykernel)",
   "language": "python",
   "name": "python3"
  },
  "language_info": {
   "codemirror_mode": {
    "name": "ipython",
    "version": 3
   },
   "file_extension": ".py",
   "mimetype": "text/x-python",
   "name": "python",
   "nbconvert_exporter": "python",
   "pygments_lexer": "ipython3",
   "version": "3.10.9"
  }
 },
 "nbformat": 4,
 "nbformat_minor": 5
}
